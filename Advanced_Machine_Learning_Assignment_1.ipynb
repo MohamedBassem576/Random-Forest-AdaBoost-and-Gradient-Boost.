{
  "nbformat": 4,
  "nbformat_minor": 0,
  "metadata": {
    "colab": {
      "provenance": []
    },
    "kernelspec": {
      "name": "python3",
      "display_name": "Python 3"
    },
    "language_info": {
      "name": "python"
    }
  },
  "cells": [
    {
      "cell_type": "code",
      "execution_count": 82,
      "metadata": {
        "id": "xAgzrAiPB4iy"
      },
      "outputs": [],
      "source": [
        "import pandas as pd\n",
        "from sklearn.preprocessing import LabelEncoder\n",
        "from sklearn.model_selection import train_test_split\n",
        "from sklearn.ensemble import RandomForestClassifier, AdaBoostClassifier, GradientBoostingRegressor ,RandomForestRegressor\n",
        "from sklearn.metrics import accuracy_score\n",
        "from sklearn.metrics import mean_squared_error\n",
        "from sklearn.model_selection import GridSearchCV\n",
        "from sklearn.ensemble import AdaBoostRegressor\n",
        "from sklearn.ensemble import GradientBoostingClassifier\n",
        "from sklearn.metrics import precision_score, recall_score, f1_score\n",
        "import numpy as np\n",
        "import matplotlib.pyplot as plt\n",
        "import seaborn as sns\n",
        "from sklearn.preprocessing import StandardScaler\n",
        "\n",
        "data_banknote_authentication = pd.read_csv(\"data_banknote_authentication.csv\")\n",
        "glasstypePrediction = pd.read_csv(\"glasstypePrediction.csv\")\n",
        "housePricePrediction = pd.read_csv(\"housePricePrediction.csv\")"
      ]
    },
    {
      "cell_type": "markdown",
      "source": [
        "# Data Preprocessing"
      ],
      "metadata": {
        "id": "MTbnaVp8Necm"
      }
    },
    {
      "cell_type": "code",
      "source": [
        "# Check duplicates,missing values,types\n",
        "data_banknote_authentication.duplicated().sum()\n",
        "# Remove duplicates\n",
        "data_banknote_authentication.drop_duplicates()\n",
        "# Check types\n",
        "data_banknote_authentication.dtypes\n",
        "# Check missing values\n",
        "data_banknote_authentication.isnull().sum()\n",
        "# Apply scaling to features\n",
        "scaler = StandardScaler()\n",
        "target = data_banknote_authentication['Class']\n",
        "features = data_banknote_authentication.drop('Class',axis = 1)\n",
        "scaled_features = scaler.fit_transform(features)\n",
        "scaled_df = pd.DataFrame(scaled_features, columns=features.columns)\n",
        "scaled_data_banknote_authentication = pd.concat([scaled_df, target], axis=1)\n",
        "scaled_data_banknote_authentication"
      ],
      "metadata": {
        "colab": {
          "base_uri": "https://localhost:8080/",
          "height": 423
        },
        "id": "GdOaJPRHE4rn",
        "outputId": "c8aa0ab0-77c9-40d8-c9d7-ed274953f395"
      },
      "execution_count": 83,
      "outputs": [
        {
          "output_type": "execute_result",
          "data": {
            "text/plain": [
              "      Variance_Wavelet  Skewness_Wavelet  Curtosis_Wavelet  Image_Entropy  \\\n",
              "0             1.121806          1.149455         -0.975970       0.354561   \n",
              "1             1.447066          1.064453         -0.895036      -0.128767   \n",
              "2             1.207810         -0.777352          0.122218       0.618073   \n",
              "3             1.063742          1.295478         -1.255397      -1.144029   \n",
              "4            -0.036772         -1.087038          0.736730       0.096587   \n",
              "...                ...               ...               ...            ...   \n",
              "1367         -0.009711         -0.097693         -0.660962       0.300996   \n",
              "1368         -0.641313         -1.158984          1.179023       0.730127   \n",
              "1369         -1.472357         -2.621646          3.759017      -0.754884   \n",
              "1370         -1.406693         -1.756471          2.552043      -0.043158   \n",
              "1371         -1.047122         -0.439822          0.298616       1.136464   \n",
              "\n",
              "      Class  \n",
              "0         0  \n",
              "1         0  \n",
              "2         0  \n",
              "3         0  \n",
              "4         0  \n",
              "...     ...  \n",
              "1367      1  \n",
              "1368      1  \n",
              "1369      1  \n",
              "1370      1  \n",
              "1371      1  \n",
              "\n",
              "[1372 rows x 5 columns]"
            ],
            "text/html": [
              "\n",
              "  <div id=\"df-593f110d-f6ab-459c-a3c2-db0d5dba4b84\" class=\"colab-df-container\">\n",
              "    <div>\n",
              "<style scoped>\n",
              "    .dataframe tbody tr th:only-of-type {\n",
              "        vertical-align: middle;\n",
              "    }\n",
              "\n",
              "    .dataframe tbody tr th {\n",
              "        vertical-align: top;\n",
              "    }\n",
              "\n",
              "    .dataframe thead th {\n",
              "        text-align: right;\n",
              "    }\n",
              "</style>\n",
              "<table border=\"1\" class=\"dataframe\">\n",
              "  <thead>\n",
              "    <tr style=\"text-align: right;\">\n",
              "      <th></th>\n",
              "      <th>Variance_Wavelet</th>\n",
              "      <th>Skewness_Wavelet</th>\n",
              "      <th>Curtosis_Wavelet</th>\n",
              "      <th>Image_Entropy</th>\n",
              "      <th>Class</th>\n",
              "    </tr>\n",
              "  </thead>\n",
              "  <tbody>\n",
              "    <tr>\n",
              "      <th>0</th>\n",
              "      <td>1.121806</td>\n",
              "      <td>1.149455</td>\n",
              "      <td>-0.975970</td>\n",
              "      <td>0.354561</td>\n",
              "      <td>0</td>\n",
              "    </tr>\n",
              "    <tr>\n",
              "      <th>1</th>\n",
              "      <td>1.447066</td>\n",
              "      <td>1.064453</td>\n",
              "      <td>-0.895036</td>\n",
              "      <td>-0.128767</td>\n",
              "      <td>0</td>\n",
              "    </tr>\n",
              "    <tr>\n",
              "      <th>2</th>\n",
              "      <td>1.207810</td>\n",
              "      <td>-0.777352</td>\n",
              "      <td>0.122218</td>\n",
              "      <td>0.618073</td>\n",
              "      <td>0</td>\n",
              "    </tr>\n",
              "    <tr>\n",
              "      <th>3</th>\n",
              "      <td>1.063742</td>\n",
              "      <td>1.295478</td>\n",
              "      <td>-1.255397</td>\n",
              "      <td>-1.144029</td>\n",
              "      <td>0</td>\n",
              "    </tr>\n",
              "    <tr>\n",
              "      <th>4</th>\n",
              "      <td>-0.036772</td>\n",
              "      <td>-1.087038</td>\n",
              "      <td>0.736730</td>\n",
              "      <td>0.096587</td>\n",
              "      <td>0</td>\n",
              "    </tr>\n",
              "    <tr>\n",
              "      <th>...</th>\n",
              "      <td>...</td>\n",
              "      <td>...</td>\n",
              "      <td>...</td>\n",
              "      <td>...</td>\n",
              "      <td>...</td>\n",
              "    </tr>\n",
              "    <tr>\n",
              "      <th>1367</th>\n",
              "      <td>-0.009711</td>\n",
              "      <td>-0.097693</td>\n",
              "      <td>-0.660962</td>\n",
              "      <td>0.300996</td>\n",
              "      <td>1</td>\n",
              "    </tr>\n",
              "    <tr>\n",
              "      <th>1368</th>\n",
              "      <td>-0.641313</td>\n",
              "      <td>-1.158984</td>\n",
              "      <td>1.179023</td>\n",
              "      <td>0.730127</td>\n",
              "      <td>1</td>\n",
              "    </tr>\n",
              "    <tr>\n",
              "      <th>1369</th>\n",
              "      <td>-1.472357</td>\n",
              "      <td>-2.621646</td>\n",
              "      <td>3.759017</td>\n",
              "      <td>-0.754884</td>\n",
              "      <td>1</td>\n",
              "    </tr>\n",
              "    <tr>\n",
              "      <th>1370</th>\n",
              "      <td>-1.406693</td>\n",
              "      <td>-1.756471</td>\n",
              "      <td>2.552043</td>\n",
              "      <td>-0.043158</td>\n",
              "      <td>1</td>\n",
              "    </tr>\n",
              "    <tr>\n",
              "      <th>1371</th>\n",
              "      <td>-1.047122</td>\n",
              "      <td>-0.439822</td>\n",
              "      <td>0.298616</td>\n",
              "      <td>1.136464</td>\n",
              "      <td>1</td>\n",
              "    </tr>\n",
              "  </tbody>\n",
              "</table>\n",
              "<p>1372 rows × 5 columns</p>\n",
              "</div>\n",
              "    <div class=\"colab-df-buttons\">\n",
              "\n",
              "  <div class=\"colab-df-container\">\n",
              "    <button class=\"colab-df-convert\" onclick=\"convertToInteractive('df-593f110d-f6ab-459c-a3c2-db0d5dba4b84')\"\n",
              "            title=\"Convert this dataframe to an interactive table.\"\n",
              "            style=\"display:none;\">\n",
              "\n",
              "  <svg xmlns=\"http://www.w3.org/2000/svg\" height=\"24px\" viewBox=\"0 -960 960 960\">\n",
              "    <path d=\"M120-120v-720h720v720H120Zm60-500h600v-160H180v160Zm220 220h160v-160H400v160Zm0 220h160v-160H400v160ZM180-400h160v-160H180v160Zm440 0h160v-160H620v160ZM180-180h160v-160H180v160Zm440 0h160v-160H620v160Z\"/>\n",
              "  </svg>\n",
              "    </button>\n",
              "\n",
              "  <style>\n",
              "    .colab-df-container {\n",
              "      display:flex;\n",
              "      gap: 12px;\n",
              "    }\n",
              "\n",
              "    .colab-df-convert {\n",
              "      background-color: #E8F0FE;\n",
              "      border: none;\n",
              "      border-radius: 50%;\n",
              "      cursor: pointer;\n",
              "      display: none;\n",
              "      fill: #1967D2;\n",
              "      height: 32px;\n",
              "      padding: 0 0 0 0;\n",
              "      width: 32px;\n",
              "    }\n",
              "\n",
              "    .colab-df-convert:hover {\n",
              "      background-color: #E2EBFA;\n",
              "      box-shadow: 0px 1px 2px rgba(60, 64, 67, 0.3), 0px 1px 3px 1px rgba(60, 64, 67, 0.15);\n",
              "      fill: #174EA6;\n",
              "    }\n",
              "\n",
              "    .colab-df-buttons div {\n",
              "      margin-bottom: 4px;\n",
              "    }\n",
              "\n",
              "    [theme=dark] .colab-df-convert {\n",
              "      background-color: #3B4455;\n",
              "      fill: #D2E3FC;\n",
              "    }\n",
              "\n",
              "    [theme=dark] .colab-df-convert:hover {\n",
              "      background-color: #434B5C;\n",
              "      box-shadow: 0px 1px 3px 1px rgba(0, 0, 0, 0.15);\n",
              "      filter: drop-shadow(0px 1px 2px rgba(0, 0, 0, 0.3));\n",
              "      fill: #FFFFFF;\n",
              "    }\n",
              "  </style>\n",
              "\n",
              "    <script>\n",
              "      const buttonEl =\n",
              "        document.querySelector('#df-593f110d-f6ab-459c-a3c2-db0d5dba4b84 button.colab-df-convert');\n",
              "      buttonEl.style.display =\n",
              "        google.colab.kernel.accessAllowed ? 'block' : 'none';\n",
              "\n",
              "      async function convertToInteractive(key) {\n",
              "        const element = document.querySelector('#df-593f110d-f6ab-459c-a3c2-db0d5dba4b84');\n",
              "        const dataTable =\n",
              "          await google.colab.kernel.invokeFunction('convertToInteractive',\n",
              "                                                    [key], {});\n",
              "        if (!dataTable) return;\n",
              "\n",
              "        const docLinkHtml = 'Like what you see? Visit the ' +\n",
              "          '<a target=\"_blank\" href=https://colab.research.google.com/notebooks/data_table.ipynb>data table notebook</a>'\n",
              "          + ' to learn more about interactive tables.';\n",
              "        element.innerHTML = '';\n",
              "        dataTable['output_type'] = 'display_data';\n",
              "        await google.colab.output.renderOutput(dataTable, element);\n",
              "        const docLink = document.createElement('div');\n",
              "        docLink.innerHTML = docLinkHtml;\n",
              "        element.appendChild(docLink);\n",
              "      }\n",
              "    </script>\n",
              "  </div>\n",
              "\n",
              "\n",
              "<div id=\"df-94a70dcd-9c29-4c1b-a3f0-c71474f839a2\">\n",
              "  <button class=\"colab-df-quickchart\" onclick=\"quickchart('df-94a70dcd-9c29-4c1b-a3f0-c71474f839a2')\"\n",
              "            title=\"Suggest charts\"\n",
              "            style=\"display:none;\">\n",
              "\n",
              "<svg xmlns=\"http://www.w3.org/2000/svg\" height=\"24px\"viewBox=\"0 0 24 24\"\n",
              "     width=\"24px\">\n",
              "    <g>\n",
              "        <path d=\"M19 3H5c-1.1 0-2 .9-2 2v14c0 1.1.9 2 2 2h14c1.1 0 2-.9 2-2V5c0-1.1-.9-2-2-2zM9 17H7v-7h2v7zm4 0h-2V7h2v10zm4 0h-2v-4h2v4z\"/>\n",
              "    </g>\n",
              "</svg>\n",
              "  </button>\n",
              "\n",
              "<style>\n",
              "  .colab-df-quickchart {\n",
              "      --bg-color: #E8F0FE;\n",
              "      --fill-color: #1967D2;\n",
              "      --hover-bg-color: #E2EBFA;\n",
              "      --hover-fill-color: #174EA6;\n",
              "      --disabled-fill-color: #AAA;\n",
              "      --disabled-bg-color: #DDD;\n",
              "  }\n",
              "\n",
              "  [theme=dark] .colab-df-quickchart {\n",
              "      --bg-color: #3B4455;\n",
              "      --fill-color: #D2E3FC;\n",
              "      --hover-bg-color: #434B5C;\n",
              "      --hover-fill-color: #FFFFFF;\n",
              "      --disabled-bg-color: #3B4455;\n",
              "      --disabled-fill-color: #666;\n",
              "  }\n",
              "\n",
              "  .colab-df-quickchart {\n",
              "    background-color: var(--bg-color);\n",
              "    border: none;\n",
              "    border-radius: 50%;\n",
              "    cursor: pointer;\n",
              "    display: none;\n",
              "    fill: var(--fill-color);\n",
              "    height: 32px;\n",
              "    padding: 0;\n",
              "    width: 32px;\n",
              "  }\n",
              "\n",
              "  .colab-df-quickchart:hover {\n",
              "    background-color: var(--hover-bg-color);\n",
              "    box-shadow: 0 1px 2px rgba(60, 64, 67, 0.3), 0 1px 3px 1px rgba(60, 64, 67, 0.15);\n",
              "    fill: var(--button-hover-fill-color);\n",
              "  }\n",
              "\n",
              "  .colab-df-quickchart-complete:disabled,\n",
              "  .colab-df-quickchart-complete:disabled:hover {\n",
              "    background-color: var(--disabled-bg-color);\n",
              "    fill: var(--disabled-fill-color);\n",
              "    box-shadow: none;\n",
              "  }\n",
              "\n",
              "  .colab-df-spinner {\n",
              "    border: 2px solid var(--fill-color);\n",
              "    border-color: transparent;\n",
              "    border-bottom-color: var(--fill-color);\n",
              "    animation:\n",
              "      spin 1s steps(1) infinite;\n",
              "  }\n",
              "\n",
              "  @keyframes spin {\n",
              "    0% {\n",
              "      border-color: transparent;\n",
              "      border-bottom-color: var(--fill-color);\n",
              "      border-left-color: var(--fill-color);\n",
              "    }\n",
              "    20% {\n",
              "      border-color: transparent;\n",
              "      border-left-color: var(--fill-color);\n",
              "      border-top-color: var(--fill-color);\n",
              "    }\n",
              "    30% {\n",
              "      border-color: transparent;\n",
              "      border-left-color: var(--fill-color);\n",
              "      border-top-color: var(--fill-color);\n",
              "      border-right-color: var(--fill-color);\n",
              "    }\n",
              "    40% {\n",
              "      border-color: transparent;\n",
              "      border-right-color: var(--fill-color);\n",
              "      border-top-color: var(--fill-color);\n",
              "    }\n",
              "    60% {\n",
              "      border-color: transparent;\n",
              "      border-right-color: var(--fill-color);\n",
              "    }\n",
              "    80% {\n",
              "      border-color: transparent;\n",
              "      border-right-color: var(--fill-color);\n",
              "      border-bottom-color: var(--fill-color);\n",
              "    }\n",
              "    90% {\n",
              "      border-color: transparent;\n",
              "      border-bottom-color: var(--fill-color);\n",
              "    }\n",
              "  }\n",
              "</style>\n",
              "\n",
              "  <script>\n",
              "    async function quickchart(key) {\n",
              "      const quickchartButtonEl =\n",
              "        document.querySelector('#' + key + ' button');\n",
              "      quickchartButtonEl.disabled = true;  // To prevent multiple clicks.\n",
              "      quickchartButtonEl.classList.add('colab-df-spinner');\n",
              "      try {\n",
              "        const charts = await google.colab.kernel.invokeFunction(\n",
              "            'suggestCharts', [key], {});\n",
              "      } catch (error) {\n",
              "        console.error('Error during call to suggestCharts:', error);\n",
              "      }\n",
              "      quickchartButtonEl.classList.remove('colab-df-spinner');\n",
              "      quickchartButtonEl.classList.add('colab-df-quickchart-complete');\n",
              "    }\n",
              "    (() => {\n",
              "      let quickchartButtonEl =\n",
              "        document.querySelector('#df-94a70dcd-9c29-4c1b-a3f0-c71474f839a2 button');\n",
              "      quickchartButtonEl.style.display =\n",
              "        google.colab.kernel.accessAllowed ? 'block' : 'none';\n",
              "    })();\n",
              "  </script>\n",
              "</div>\n",
              "\n",
              "  <div id=\"id_67c20a0a-6214-4a2e-9638-01993ad58c49\">\n",
              "    <style>\n",
              "      .colab-df-generate {\n",
              "        background-color: #E8F0FE;\n",
              "        border: none;\n",
              "        border-radius: 50%;\n",
              "        cursor: pointer;\n",
              "        display: none;\n",
              "        fill: #1967D2;\n",
              "        height: 32px;\n",
              "        padding: 0 0 0 0;\n",
              "        width: 32px;\n",
              "      }\n",
              "\n",
              "      .colab-df-generate:hover {\n",
              "        background-color: #E2EBFA;\n",
              "        box-shadow: 0px 1px 2px rgba(60, 64, 67, 0.3), 0px 1px 3px 1px rgba(60, 64, 67, 0.15);\n",
              "        fill: #174EA6;\n",
              "      }\n",
              "\n",
              "      [theme=dark] .colab-df-generate {\n",
              "        background-color: #3B4455;\n",
              "        fill: #D2E3FC;\n",
              "      }\n",
              "\n",
              "      [theme=dark] .colab-df-generate:hover {\n",
              "        background-color: #434B5C;\n",
              "        box-shadow: 0px 1px 3px 1px rgba(0, 0, 0, 0.15);\n",
              "        filter: drop-shadow(0px 1px 2px rgba(0, 0, 0, 0.3));\n",
              "        fill: #FFFFFF;\n",
              "      }\n",
              "    </style>\n",
              "    <button class=\"colab-df-generate\" onclick=\"generateWithVariable('scaled_data_banknote_authentication')\"\n",
              "            title=\"Generate code using this dataframe.\"\n",
              "            style=\"display:none;\">\n",
              "\n",
              "  <svg xmlns=\"http://www.w3.org/2000/svg\" height=\"24px\"viewBox=\"0 0 24 24\"\n",
              "       width=\"24px\">\n",
              "    <path d=\"M7,19H8.4L18.45,9,17,7.55,7,17.6ZM5,21V16.75L18.45,3.32a2,2,0,0,1,2.83,0l1.4,1.43a1.91,1.91,0,0,1,.58,1.4,1.91,1.91,0,0,1-.58,1.4L9.25,21ZM18.45,9,17,7.55Zm-12,3A5.31,5.31,0,0,0,4.9,8.1,5.31,5.31,0,0,0,1,6.5,5.31,5.31,0,0,0,4.9,4.9,5.31,5.31,0,0,0,6.5,1,5.31,5.31,0,0,0,8.1,4.9,5.31,5.31,0,0,0,12,6.5,5.46,5.46,0,0,0,6.5,12Z\"/>\n",
              "  </svg>\n",
              "    </button>\n",
              "    <script>\n",
              "      (() => {\n",
              "      const buttonEl =\n",
              "        document.querySelector('#id_67c20a0a-6214-4a2e-9638-01993ad58c49 button.colab-df-generate');\n",
              "      buttonEl.style.display =\n",
              "        google.colab.kernel.accessAllowed ? 'block' : 'none';\n",
              "\n",
              "      buttonEl.onclick = () => {\n",
              "        google.colab.notebook.generateWithVariable('scaled_data_banknote_authentication');\n",
              "      }\n",
              "      })();\n",
              "    </script>\n",
              "  </div>\n",
              "\n",
              "    </div>\n",
              "  </div>\n"
            ],
            "application/vnd.google.colaboratory.intrinsic+json": {
              "type": "dataframe",
              "variable_name": "scaled_data_banknote_authentication",
              "summary": "{\n  \"name\": \"scaled_data_banknote_authentication\",\n  \"rows\": 1372,\n  \"fields\": [\n    {\n      \"column\": \"Variance_Wavelet\",\n      \"properties\": {\n        \"dtype\": \"number\",\n        \"std\": 1.0003646308234213,\n        \"min\": -2.630737161496713,\n        \"max\": 2.2490077620232527,\n        \"num_unique_values\": 1338,\n        \"samples\": [\n          -0.9570714661536075,\n          -0.342304331365776,\n          0.16236071920201164\n        ],\n        \"semantic_type\": \"\",\n        \"description\": \"\"\n      }\n    },\n    {\n      \"column\": \"Skewness_Wavelet\",\n      \"properties\": {\n        \"dtype\": \"number\",\n        \"std\": 1.0003646308234213,\n        \"min\": -2.675251510562731,\n        \"max\": 1.8799080948850557,\n        \"num_unique_values\": 1256,\n        \"samples\": [\n          1.5850508803432977,\n          -1.1141905907973415,\n          0.7205750027128627\n        ],\n        \"semantic_type\": \"\",\n        \"description\": \"\"\n      }\n    },\n    {\n      \"column\": \"Curtosis_Wavelet\",\n      \"properties\": {\n        \"dtype\": \"number\",\n        \"std\": 1.0003646308234213,\n        \"min\": -1.5513033715325395,\n        \"max\": 3.836585778226311,\n        \"num_unique_values\": 1270,\n        \"samples\": [\n          1.508769781083423,\n          1.9550314162630102,\n          -0.27792235956909206\n        ],\n        \"semantic_type\": \"\",\n        \"description\": \"\"\n      }\n    },\n    {\n      \"column\": \"Image_Entropy\",\n      \"properties\": {\n        \"dtype\": \"number\",\n        \"std\": 1.0003646308234213,\n        \"min\": -3.502703420365759,\n        \"max\": 1.7336798771860287,\n        \"num_unique_values\": 1156,\n        \"samples\": [\n          1.0564263057631254,\n          1.0004138548757588,\n          0.5546577812966115\n        ],\n        \"semantic_type\": \"\",\n        \"description\": \"\"\n      }\n    },\n    {\n      \"column\": \"Class\",\n      \"properties\": {\n        \"dtype\": \"number\",\n        \"std\": 0,\n        \"min\": 0,\n        \"max\": 1,\n        \"num_unique_values\": 2,\n        \"samples\": [\n          1,\n          0\n        ],\n        \"semantic_type\": \"\",\n        \"description\": \"\"\n      }\n    }\n  ]\n}"
            }
          },
          "metadata": {},
          "execution_count": 83
        }
      ]
    },
    {
      "cell_type": "code",
      "source": [
        "# Check duplicates,missing values,types\n",
        "glasstypePrediction.duplicated().sum()\n",
        "# Remove duplicates\n",
        "glasstypePrediction.drop_duplicates()\n",
        "# Check types\n",
        "glasstypePrediction.dtypes\n",
        "# Check missing values\n",
        "glasstypePrediction.isnull().sum()\n",
        "# Apply scaling to features\n",
        "scaler = StandardScaler()\n",
        "target = glasstypePrediction['Type']\n",
        "features = glasstypePrediction.drop('Type',axis = 1)\n",
        "scaled_features = scaler.fit_transform(features)\n",
        "scaled_df = pd.DataFrame(scaled_features, columns=features.columns)\n",
        "scaled_glasstypePrediction = pd.concat([scaled_df, target], axis=1)\n",
        "scaled_glasstypePrediction"
      ],
      "metadata": {
        "colab": {
          "base_uri": "https://localhost:8080/",
          "height": 423
        },
        "id": "F1zamzqOE436",
        "outputId": "cae08ce3-a1de-44b7-c367-6e052b813d17"
      },
      "execution_count": 84,
      "outputs": [
        {
          "output_type": "execute_result",
          "data": {
            "text/plain": [
              "           RI        Na        Mg        Al        Si         K        Ca  \\\n",
              "0    0.872868  0.284953  1.254639 -0.692442 -1.127082 -0.671705 -0.145766   \n",
              "1   -0.249333  0.591817  0.636168 -0.170460  0.102319 -0.026213 -0.793734   \n",
              "2   -0.721318  0.149933  0.601422  0.190912  0.438787 -0.164533 -0.828949   \n",
              "3   -0.232831 -0.242853  0.698710 -0.310994 -0.052974  0.112107 -0.519052   \n",
              "4   -0.312045 -0.169205  0.650066 -0.411375  0.555256  0.081369 -0.624699   \n",
              "..        ...       ...       ...       ...       ...       ...       ...   \n",
              "209 -0.704815  0.898681 -1.865511  2.881125 -0.052974 -0.640968  0.157088   \n",
              "210 -0.500178  1.856097 -1.865511  1.094342  0.529374 -0.763919 -0.392276   \n",
              "211  0.754046  1.168721 -1.865511  1.154570  0.995252 -0.763919 -0.364103   \n",
              "212 -0.612399  1.193270 -1.865511  0.993960  1.241133 -0.763919 -0.335931   \n",
              "213 -0.414363  1.009152 -1.865511  1.275028  0.917606 -0.763919 -0.237327   \n",
              "\n",
              "           Ba        Fe  Type  \n",
              "0   -0.352877 -0.586451     1  \n",
              "1   -0.352877 -0.586451     1  \n",
              "2   -0.352877 -0.586451     1  \n",
              "3   -0.352877 -0.586451     1  \n",
              "4   -0.352877 -0.586451     1  \n",
              "..        ...       ...   ...  \n",
              "209  1.783978 -0.586451     7  \n",
              "210  2.852405 -0.586451     7  \n",
              "211  2.953200 -0.586451     7  \n",
              "212  2.812087 -0.586451     7  \n",
              "213  3.013677 -0.586451     7  \n",
              "\n",
              "[214 rows x 10 columns]"
            ],
            "text/html": [
              "\n",
              "  <div id=\"df-46c01577-dd85-4bc2-badc-5465b1932155\" class=\"colab-df-container\">\n",
              "    <div>\n",
              "<style scoped>\n",
              "    .dataframe tbody tr th:only-of-type {\n",
              "        vertical-align: middle;\n",
              "    }\n",
              "\n",
              "    .dataframe tbody tr th {\n",
              "        vertical-align: top;\n",
              "    }\n",
              "\n",
              "    .dataframe thead th {\n",
              "        text-align: right;\n",
              "    }\n",
              "</style>\n",
              "<table border=\"1\" class=\"dataframe\">\n",
              "  <thead>\n",
              "    <tr style=\"text-align: right;\">\n",
              "      <th></th>\n",
              "      <th>RI</th>\n",
              "      <th>Na</th>\n",
              "      <th>Mg</th>\n",
              "      <th>Al</th>\n",
              "      <th>Si</th>\n",
              "      <th>K</th>\n",
              "      <th>Ca</th>\n",
              "      <th>Ba</th>\n",
              "      <th>Fe</th>\n",
              "      <th>Type</th>\n",
              "    </tr>\n",
              "  </thead>\n",
              "  <tbody>\n",
              "    <tr>\n",
              "      <th>0</th>\n",
              "      <td>0.872868</td>\n",
              "      <td>0.284953</td>\n",
              "      <td>1.254639</td>\n",
              "      <td>-0.692442</td>\n",
              "      <td>-1.127082</td>\n",
              "      <td>-0.671705</td>\n",
              "      <td>-0.145766</td>\n",
              "      <td>-0.352877</td>\n",
              "      <td>-0.586451</td>\n",
              "      <td>1</td>\n",
              "    </tr>\n",
              "    <tr>\n",
              "      <th>1</th>\n",
              "      <td>-0.249333</td>\n",
              "      <td>0.591817</td>\n",
              "      <td>0.636168</td>\n",
              "      <td>-0.170460</td>\n",
              "      <td>0.102319</td>\n",
              "      <td>-0.026213</td>\n",
              "      <td>-0.793734</td>\n",
              "      <td>-0.352877</td>\n",
              "      <td>-0.586451</td>\n",
              "      <td>1</td>\n",
              "    </tr>\n",
              "    <tr>\n",
              "      <th>2</th>\n",
              "      <td>-0.721318</td>\n",
              "      <td>0.149933</td>\n",
              "      <td>0.601422</td>\n",
              "      <td>0.190912</td>\n",
              "      <td>0.438787</td>\n",
              "      <td>-0.164533</td>\n",
              "      <td>-0.828949</td>\n",
              "      <td>-0.352877</td>\n",
              "      <td>-0.586451</td>\n",
              "      <td>1</td>\n",
              "    </tr>\n",
              "    <tr>\n",
              "      <th>3</th>\n",
              "      <td>-0.232831</td>\n",
              "      <td>-0.242853</td>\n",
              "      <td>0.698710</td>\n",
              "      <td>-0.310994</td>\n",
              "      <td>-0.052974</td>\n",
              "      <td>0.112107</td>\n",
              "      <td>-0.519052</td>\n",
              "      <td>-0.352877</td>\n",
              "      <td>-0.586451</td>\n",
              "      <td>1</td>\n",
              "    </tr>\n",
              "    <tr>\n",
              "      <th>4</th>\n",
              "      <td>-0.312045</td>\n",
              "      <td>-0.169205</td>\n",
              "      <td>0.650066</td>\n",
              "      <td>-0.411375</td>\n",
              "      <td>0.555256</td>\n",
              "      <td>0.081369</td>\n",
              "      <td>-0.624699</td>\n",
              "      <td>-0.352877</td>\n",
              "      <td>-0.586451</td>\n",
              "      <td>1</td>\n",
              "    </tr>\n",
              "    <tr>\n",
              "      <th>...</th>\n",
              "      <td>...</td>\n",
              "      <td>...</td>\n",
              "      <td>...</td>\n",
              "      <td>...</td>\n",
              "      <td>...</td>\n",
              "      <td>...</td>\n",
              "      <td>...</td>\n",
              "      <td>...</td>\n",
              "      <td>...</td>\n",
              "      <td>...</td>\n",
              "    </tr>\n",
              "    <tr>\n",
              "      <th>209</th>\n",
              "      <td>-0.704815</td>\n",
              "      <td>0.898681</td>\n",
              "      <td>-1.865511</td>\n",
              "      <td>2.881125</td>\n",
              "      <td>-0.052974</td>\n",
              "      <td>-0.640968</td>\n",
              "      <td>0.157088</td>\n",
              "      <td>1.783978</td>\n",
              "      <td>-0.586451</td>\n",
              "      <td>7</td>\n",
              "    </tr>\n",
              "    <tr>\n",
              "      <th>210</th>\n",
              "      <td>-0.500178</td>\n",
              "      <td>1.856097</td>\n",
              "      <td>-1.865511</td>\n",
              "      <td>1.094342</td>\n",
              "      <td>0.529374</td>\n",
              "      <td>-0.763919</td>\n",
              "      <td>-0.392276</td>\n",
              "      <td>2.852405</td>\n",
              "      <td>-0.586451</td>\n",
              "      <td>7</td>\n",
              "    </tr>\n",
              "    <tr>\n",
              "      <th>211</th>\n",
              "      <td>0.754046</td>\n",
              "      <td>1.168721</td>\n",
              "      <td>-1.865511</td>\n",
              "      <td>1.154570</td>\n",
              "      <td>0.995252</td>\n",
              "      <td>-0.763919</td>\n",
              "      <td>-0.364103</td>\n",
              "      <td>2.953200</td>\n",
              "      <td>-0.586451</td>\n",
              "      <td>7</td>\n",
              "    </tr>\n",
              "    <tr>\n",
              "      <th>212</th>\n",
              "      <td>-0.612399</td>\n",
              "      <td>1.193270</td>\n",
              "      <td>-1.865511</td>\n",
              "      <td>0.993960</td>\n",
              "      <td>1.241133</td>\n",
              "      <td>-0.763919</td>\n",
              "      <td>-0.335931</td>\n",
              "      <td>2.812087</td>\n",
              "      <td>-0.586451</td>\n",
              "      <td>7</td>\n",
              "    </tr>\n",
              "    <tr>\n",
              "      <th>213</th>\n",
              "      <td>-0.414363</td>\n",
              "      <td>1.009152</td>\n",
              "      <td>-1.865511</td>\n",
              "      <td>1.275028</td>\n",
              "      <td>0.917606</td>\n",
              "      <td>-0.763919</td>\n",
              "      <td>-0.237327</td>\n",
              "      <td>3.013677</td>\n",
              "      <td>-0.586451</td>\n",
              "      <td>7</td>\n",
              "    </tr>\n",
              "  </tbody>\n",
              "</table>\n",
              "<p>214 rows × 10 columns</p>\n",
              "</div>\n",
              "    <div class=\"colab-df-buttons\">\n",
              "\n",
              "  <div class=\"colab-df-container\">\n",
              "    <button class=\"colab-df-convert\" onclick=\"convertToInteractive('df-46c01577-dd85-4bc2-badc-5465b1932155')\"\n",
              "            title=\"Convert this dataframe to an interactive table.\"\n",
              "            style=\"display:none;\">\n",
              "\n",
              "  <svg xmlns=\"http://www.w3.org/2000/svg\" height=\"24px\" viewBox=\"0 -960 960 960\">\n",
              "    <path d=\"M120-120v-720h720v720H120Zm60-500h600v-160H180v160Zm220 220h160v-160H400v160Zm0 220h160v-160H400v160ZM180-400h160v-160H180v160Zm440 0h160v-160H620v160ZM180-180h160v-160H180v160Zm440 0h160v-160H620v160Z\"/>\n",
              "  </svg>\n",
              "    </button>\n",
              "\n",
              "  <style>\n",
              "    .colab-df-container {\n",
              "      display:flex;\n",
              "      gap: 12px;\n",
              "    }\n",
              "\n",
              "    .colab-df-convert {\n",
              "      background-color: #E8F0FE;\n",
              "      border: none;\n",
              "      border-radius: 50%;\n",
              "      cursor: pointer;\n",
              "      display: none;\n",
              "      fill: #1967D2;\n",
              "      height: 32px;\n",
              "      padding: 0 0 0 0;\n",
              "      width: 32px;\n",
              "    }\n",
              "\n",
              "    .colab-df-convert:hover {\n",
              "      background-color: #E2EBFA;\n",
              "      box-shadow: 0px 1px 2px rgba(60, 64, 67, 0.3), 0px 1px 3px 1px rgba(60, 64, 67, 0.15);\n",
              "      fill: #174EA6;\n",
              "    }\n",
              "\n",
              "    .colab-df-buttons div {\n",
              "      margin-bottom: 4px;\n",
              "    }\n",
              "\n",
              "    [theme=dark] .colab-df-convert {\n",
              "      background-color: #3B4455;\n",
              "      fill: #D2E3FC;\n",
              "    }\n",
              "\n",
              "    [theme=dark] .colab-df-convert:hover {\n",
              "      background-color: #434B5C;\n",
              "      box-shadow: 0px 1px 3px 1px rgba(0, 0, 0, 0.15);\n",
              "      filter: drop-shadow(0px 1px 2px rgba(0, 0, 0, 0.3));\n",
              "      fill: #FFFFFF;\n",
              "    }\n",
              "  </style>\n",
              "\n",
              "    <script>\n",
              "      const buttonEl =\n",
              "        document.querySelector('#df-46c01577-dd85-4bc2-badc-5465b1932155 button.colab-df-convert');\n",
              "      buttonEl.style.display =\n",
              "        google.colab.kernel.accessAllowed ? 'block' : 'none';\n",
              "\n",
              "      async function convertToInteractive(key) {\n",
              "        const element = document.querySelector('#df-46c01577-dd85-4bc2-badc-5465b1932155');\n",
              "        const dataTable =\n",
              "          await google.colab.kernel.invokeFunction('convertToInteractive',\n",
              "                                                    [key], {});\n",
              "        if (!dataTable) return;\n",
              "\n",
              "        const docLinkHtml = 'Like what you see? Visit the ' +\n",
              "          '<a target=\"_blank\" href=https://colab.research.google.com/notebooks/data_table.ipynb>data table notebook</a>'\n",
              "          + ' to learn more about interactive tables.';\n",
              "        element.innerHTML = '';\n",
              "        dataTable['output_type'] = 'display_data';\n",
              "        await google.colab.output.renderOutput(dataTable, element);\n",
              "        const docLink = document.createElement('div');\n",
              "        docLink.innerHTML = docLinkHtml;\n",
              "        element.appendChild(docLink);\n",
              "      }\n",
              "    </script>\n",
              "  </div>\n",
              "\n",
              "\n",
              "<div id=\"df-29e70b00-a7da-46c2-b3a7-b8a0e34709a5\">\n",
              "  <button class=\"colab-df-quickchart\" onclick=\"quickchart('df-29e70b00-a7da-46c2-b3a7-b8a0e34709a5')\"\n",
              "            title=\"Suggest charts\"\n",
              "            style=\"display:none;\">\n",
              "\n",
              "<svg xmlns=\"http://www.w3.org/2000/svg\" height=\"24px\"viewBox=\"0 0 24 24\"\n",
              "     width=\"24px\">\n",
              "    <g>\n",
              "        <path d=\"M19 3H5c-1.1 0-2 .9-2 2v14c0 1.1.9 2 2 2h14c1.1 0 2-.9 2-2V5c0-1.1-.9-2-2-2zM9 17H7v-7h2v7zm4 0h-2V7h2v10zm4 0h-2v-4h2v4z\"/>\n",
              "    </g>\n",
              "</svg>\n",
              "  </button>\n",
              "\n",
              "<style>\n",
              "  .colab-df-quickchart {\n",
              "      --bg-color: #E8F0FE;\n",
              "      --fill-color: #1967D2;\n",
              "      --hover-bg-color: #E2EBFA;\n",
              "      --hover-fill-color: #174EA6;\n",
              "      --disabled-fill-color: #AAA;\n",
              "      --disabled-bg-color: #DDD;\n",
              "  }\n",
              "\n",
              "  [theme=dark] .colab-df-quickchart {\n",
              "      --bg-color: #3B4455;\n",
              "      --fill-color: #D2E3FC;\n",
              "      --hover-bg-color: #434B5C;\n",
              "      --hover-fill-color: #FFFFFF;\n",
              "      --disabled-bg-color: #3B4455;\n",
              "      --disabled-fill-color: #666;\n",
              "  }\n",
              "\n",
              "  .colab-df-quickchart {\n",
              "    background-color: var(--bg-color);\n",
              "    border: none;\n",
              "    border-radius: 50%;\n",
              "    cursor: pointer;\n",
              "    display: none;\n",
              "    fill: var(--fill-color);\n",
              "    height: 32px;\n",
              "    padding: 0;\n",
              "    width: 32px;\n",
              "  }\n",
              "\n",
              "  .colab-df-quickchart:hover {\n",
              "    background-color: var(--hover-bg-color);\n",
              "    box-shadow: 0 1px 2px rgba(60, 64, 67, 0.3), 0 1px 3px 1px rgba(60, 64, 67, 0.15);\n",
              "    fill: var(--button-hover-fill-color);\n",
              "  }\n",
              "\n",
              "  .colab-df-quickchart-complete:disabled,\n",
              "  .colab-df-quickchart-complete:disabled:hover {\n",
              "    background-color: var(--disabled-bg-color);\n",
              "    fill: var(--disabled-fill-color);\n",
              "    box-shadow: none;\n",
              "  }\n",
              "\n",
              "  .colab-df-spinner {\n",
              "    border: 2px solid var(--fill-color);\n",
              "    border-color: transparent;\n",
              "    border-bottom-color: var(--fill-color);\n",
              "    animation:\n",
              "      spin 1s steps(1) infinite;\n",
              "  }\n",
              "\n",
              "  @keyframes spin {\n",
              "    0% {\n",
              "      border-color: transparent;\n",
              "      border-bottom-color: var(--fill-color);\n",
              "      border-left-color: var(--fill-color);\n",
              "    }\n",
              "    20% {\n",
              "      border-color: transparent;\n",
              "      border-left-color: var(--fill-color);\n",
              "      border-top-color: var(--fill-color);\n",
              "    }\n",
              "    30% {\n",
              "      border-color: transparent;\n",
              "      border-left-color: var(--fill-color);\n",
              "      border-top-color: var(--fill-color);\n",
              "      border-right-color: var(--fill-color);\n",
              "    }\n",
              "    40% {\n",
              "      border-color: transparent;\n",
              "      border-right-color: var(--fill-color);\n",
              "      border-top-color: var(--fill-color);\n",
              "    }\n",
              "    60% {\n",
              "      border-color: transparent;\n",
              "      border-right-color: var(--fill-color);\n",
              "    }\n",
              "    80% {\n",
              "      border-color: transparent;\n",
              "      border-right-color: var(--fill-color);\n",
              "      border-bottom-color: var(--fill-color);\n",
              "    }\n",
              "    90% {\n",
              "      border-color: transparent;\n",
              "      border-bottom-color: var(--fill-color);\n",
              "    }\n",
              "  }\n",
              "</style>\n",
              "\n",
              "  <script>\n",
              "    async function quickchart(key) {\n",
              "      const quickchartButtonEl =\n",
              "        document.querySelector('#' + key + ' button');\n",
              "      quickchartButtonEl.disabled = true;  // To prevent multiple clicks.\n",
              "      quickchartButtonEl.classList.add('colab-df-spinner');\n",
              "      try {\n",
              "        const charts = await google.colab.kernel.invokeFunction(\n",
              "            'suggestCharts', [key], {});\n",
              "      } catch (error) {\n",
              "        console.error('Error during call to suggestCharts:', error);\n",
              "      }\n",
              "      quickchartButtonEl.classList.remove('colab-df-spinner');\n",
              "      quickchartButtonEl.classList.add('colab-df-quickchart-complete');\n",
              "    }\n",
              "    (() => {\n",
              "      let quickchartButtonEl =\n",
              "        document.querySelector('#df-29e70b00-a7da-46c2-b3a7-b8a0e34709a5 button');\n",
              "      quickchartButtonEl.style.display =\n",
              "        google.colab.kernel.accessAllowed ? 'block' : 'none';\n",
              "    })();\n",
              "  </script>\n",
              "</div>\n",
              "\n",
              "  <div id=\"id_348545d2-ea2e-4601-8110-62fd0db57c0f\">\n",
              "    <style>\n",
              "      .colab-df-generate {\n",
              "        background-color: #E8F0FE;\n",
              "        border: none;\n",
              "        border-radius: 50%;\n",
              "        cursor: pointer;\n",
              "        display: none;\n",
              "        fill: #1967D2;\n",
              "        height: 32px;\n",
              "        padding: 0 0 0 0;\n",
              "        width: 32px;\n",
              "      }\n",
              "\n",
              "      .colab-df-generate:hover {\n",
              "        background-color: #E2EBFA;\n",
              "        box-shadow: 0px 1px 2px rgba(60, 64, 67, 0.3), 0px 1px 3px 1px rgba(60, 64, 67, 0.15);\n",
              "        fill: #174EA6;\n",
              "      }\n",
              "\n",
              "      [theme=dark] .colab-df-generate {\n",
              "        background-color: #3B4455;\n",
              "        fill: #D2E3FC;\n",
              "      }\n",
              "\n",
              "      [theme=dark] .colab-df-generate:hover {\n",
              "        background-color: #434B5C;\n",
              "        box-shadow: 0px 1px 3px 1px rgba(0, 0, 0, 0.15);\n",
              "        filter: drop-shadow(0px 1px 2px rgba(0, 0, 0, 0.3));\n",
              "        fill: #FFFFFF;\n",
              "      }\n",
              "    </style>\n",
              "    <button class=\"colab-df-generate\" onclick=\"generateWithVariable('scaled_glasstypePrediction')\"\n",
              "            title=\"Generate code using this dataframe.\"\n",
              "            style=\"display:none;\">\n",
              "\n",
              "  <svg xmlns=\"http://www.w3.org/2000/svg\" height=\"24px\"viewBox=\"0 0 24 24\"\n",
              "       width=\"24px\">\n",
              "    <path d=\"M7,19H8.4L18.45,9,17,7.55,7,17.6ZM5,21V16.75L18.45,3.32a2,2,0,0,1,2.83,0l1.4,1.43a1.91,1.91,0,0,1,.58,1.4,1.91,1.91,0,0,1-.58,1.4L9.25,21ZM18.45,9,17,7.55Zm-12,3A5.31,5.31,0,0,0,4.9,8.1,5.31,5.31,0,0,0,1,6.5,5.31,5.31,0,0,0,4.9,4.9,5.31,5.31,0,0,0,6.5,1,5.31,5.31,0,0,0,8.1,4.9,5.31,5.31,0,0,0,12,6.5,5.46,5.46,0,0,0,6.5,12Z\"/>\n",
              "  </svg>\n",
              "    </button>\n",
              "    <script>\n",
              "      (() => {\n",
              "      const buttonEl =\n",
              "        document.querySelector('#id_348545d2-ea2e-4601-8110-62fd0db57c0f button.colab-df-generate');\n",
              "      buttonEl.style.display =\n",
              "        google.colab.kernel.accessAllowed ? 'block' : 'none';\n",
              "\n",
              "      buttonEl.onclick = () => {\n",
              "        google.colab.notebook.generateWithVariable('scaled_glasstypePrediction');\n",
              "      }\n",
              "      })();\n",
              "    </script>\n",
              "  </div>\n",
              "\n",
              "    </div>\n",
              "  </div>\n"
            ],
            "application/vnd.google.colaboratory.intrinsic+json": {
              "type": "dataframe",
              "variable_name": "scaled_glasstypePrediction",
              "summary": "{\n  \"name\": \"scaled_glasstypePrediction\",\n  \"rows\": 214,\n  \"fields\": [\n    {\n      \"column\": \"RI\",\n      \"properties\": {\n        \"dtype\": \"number\",\n        \"std\": 1.0023446691037723,\n        \"min\": -2.381515588141226,\n        \"max\": 5.137231883487097,\n        \"num_unique_values\": 178,\n        \"samples\": [\n          0.4272877912949938,\n          -0.0942056681067664,\n          0.437189565840589\n        ],\n        \"semantic_type\": \"\",\n        \"description\": \"\"\n      }\n    },\n    {\n      \"column\": \"Na\",\n      \"properties\": {\n        \"dtype\": \"number\",\n        \"std\": 1.0023446691037725,\n        \"min\": -3.2869427542411156,\n        \"max\": 4.875637487898511,\n        \"num_unique_values\": 142,\n        \"samples\": [\n          1.1932704613693574,\n          -0.47606925732386113,\n          0.5181698398390114\n        ],\n        \"semantic_type\": \"\",\n        \"description\": \"\"\n      }\n    },\n    {\n      \"column\": \"Mg\",\n      \"properties\": {\n        \"dtype\": \"number\",\n        \"std\": 1.002344669103773,\n        \"min\": -1.865510549428499,\n        \"max\": 1.2546385680911576,\n        \"num_unique_values\": 94,\n        \"samples\": [\n          0.81684481663517,\n          0.5458296371624161,\n          0.14973052870223674\n        ],\n        \"semantic_type\": \"\",\n        \"description\": \"\"\n      }\n    },\n    {\n      \"column\": \"Al\",\n      \"properties\": {\n        \"dtype\": \"number\",\n        \"std\": 1.0023446691037727,\n        \"min\": -2.3186156537729943,\n        \"max\": 4.125850610450435,\n        \"num_unique_values\": 118,\n        \"samples\": [\n          0.0704543943347566,\n          0.4117501154930066,\n          -0.411374859065126\n        ],\n        \"semantic_type\": \"\",\n        \"description\": \"\"\n      }\n    },\n    {\n      \"column\": \"Si\",\n      \"properties\": {\n        \"dtype\": \"number\",\n        \"std\": 1.0023446691037723,\n        \"min\": -3.676471617584673,\n        \"max\": 3.5705242152225387,\n        \"num_unique_values\": 133,\n        \"samples\": [\n          -0.5576751966801421,\n          0.5293741782409451,\n          -1.0882588201535235\n        ],\n        \"semantic_type\": \"\",\n        \"description\": \"\"\n      }\n    },\n    {\n      \"column\": \"K\",\n      \"properties\": {\n        \"dtype\": \"number\",\n        \"std\": 1.002344669103772,\n        \"min\": -0.7639186386341383,\n        \"max\": 8.780144872002806,\n        \"num_unique_values\": 65,\n        \"samples\": [\n          -0.041582108843580524,\n          -0.28748390621908954,\n          -0.6717054646183225\n        ],\n        \"semantic_type\": \"\",\n        \"description\": \"\"\n      }\n    },\n    {\n      \"column\": \"Ca\",\n      \"properties\": {\n        \"dtype\": \"number\",\n        \"std\": 1.0023446691037725,\n        \"min\": -2.484083557180819,\n        \"max\": 5.094318024899604,\n        \"num_unique_values\": 143,\n        \"samples\": [\n          2.495405214688008,\n          -0.30775819578411806,\n          1.805179048290349\n        ],\n        \"semantic_type\": \"\",\n        \"description\": \"\"\n      }\n    },\n    {\n      \"column\": \"Ba\",\n      \"properties\": {\n        \"dtype\": \"number\",\n        \"std\": 1.0023446691037725,\n        \"min\": -0.35287682825777533,\n        \"max\": 5.997210462947946,\n        \"num_unique_values\": 34,\n        \"samples\": [\n          0.937299637257038,\n          0.8768226154360311,\n          2.7717692991609133\n        ],\n        \"semantic_type\": \"\",\n        \"description\": \"\"\n      }\n    },\n    {\n      \"column\": \"Fe\",\n      \"properties\": {\n        \"dtype\": \"number\",\n        \"std\": 1.0023446691037727,\n        \"min\": -0.58645090167281,\n        \"max\": 4.659881180996901,\n        \"num_unique_values\": 32,\n        \"samples\": [\n          4.659881180996901,\n          -0.27784313210400347,\n          1.573803485308836\n        ],\n        \"semantic_type\": \"\",\n        \"description\": \"\"\n      }\n    },\n    {\n      \"column\": \"Type\",\n      \"properties\": {\n        \"dtype\": \"number\",\n        \"std\": 2,\n        \"min\": 1,\n        \"max\": 7,\n        \"num_unique_values\": 6,\n        \"samples\": [\n          1,\n          2,\n          7\n        ],\n        \"semantic_type\": \"\",\n        \"description\": \"\"\n      }\n    }\n  ]\n}"
            }
          },
          "metadata": {},
          "execution_count": 84
        }
      ]
    },
    {
      "cell_type": "code",
      "source": [
        "# Apply label encoding\n",
        "label_encoder = LabelEncoder()\n",
        "\n",
        "housePricePrediction['Encoded_POSTED_BY'] = label_encoder.fit_transform(housePricePrediction['POSTED_BY'])\n",
        "housePricePrediction['Encoded_BHK_OR_RK'] = label_encoder.fit_transform(housePricePrediction['BHK_OR_RK'])\n",
        "housePricePrediction = housePricePrediction.drop(['POSTED_BY','BHK_OR_RK','ADDRESS'],axis =1)\n",
        "\n",
        "# Check duplicates,missing values,types\n",
        "housePricePrediction.duplicated().sum()\n",
        "# Remove duplicates\n",
        "housePricePrediction.drop_duplicates()\n",
        "# Check missing values\n",
        "housePricePrediction.isnull().sum()\n",
        "# Check types\n",
        "housePricePrediction.dtypes"
      ],
      "metadata": {
        "colab": {
          "base_uri": "https://localhost:8080/"
        },
        "id": "3jAZxk0nFCsG",
        "outputId": "b466061e-1a4c-4708-da35-4d4605b3ec6b"
      },
      "execution_count": 85,
      "outputs": [
        {
          "output_type": "execute_result",
          "data": {
            "text/plain": [
              "UNDER_CONSTRUCTION         int64\n",
              "RERA                       int64\n",
              "BHK_NO.                    int64\n",
              "SQUARE_FT                float64\n",
              "READY_TO_MOVE              int64\n",
              "RESALE                     int64\n",
              "LONGITUDE                float64\n",
              "LATITUDE                 float64\n",
              "TARGET(PRICE_IN_LACS)    float64\n",
              "Encoded_POSTED_BY          int64\n",
              "Encoded_BHK_OR_RK          int64\n",
              "dtype: object"
            ]
          },
          "metadata": {},
          "execution_count": 85
        }
      ]
    },
    {
      "cell_type": "markdown",
      "source": [
        "# **Model Implementation :**"
      ],
      "metadata": {
        "id": "axZ1loEYNoQx"
      }
    },
    {
      "cell_type": "markdown",
      "source": [
        "# 1-Random Forest"
      ],
      "metadata": {
        "id": "wguD4JEfZLPj"
      }
    },
    {
      "cell_type": "markdown",
      "source": [
        "Dataset 1"
      ],
      "metadata": {
        "id": "cNopc4ag1ae3"
      }
    },
    {
      "cell_type": "code",
      "source": [
        "# Split Data into features and target\n",
        "X = scaled_data_banknote_authentication.drop('Class',axis = 1)\n",
        "Y = scaled_data_banknote_authentication['Class']\n",
        "\n",
        "# Split Data into train and test sets\n",
        "x_train,x_test,y_train,y_test = train_test_split(X,Y,test_size=0.2,random_state=42)\n",
        "\n",
        "# Random forest model\n",
        "Random_forest = RandomForestClassifier(n_estimators=100,random_state=42)\n",
        "Random_forest.fit(x_train,y_train)\n",
        "Random_forest_predictions = Random_forest.predict(x_test)\n",
        "Random_forest_accuracy = accuracy_score(y_test,Random_forest_predictions)\n",
        "print(\"Accuracy = \",Random_forest_accuracy*100)"
      ],
      "metadata": {
        "colab": {
          "base_uri": "https://localhost:8080/"
        },
        "id": "h5GyJC5TNPaI",
        "outputId": "4c1e7cd5-ff17-484e-a854-6ae78d3bff84"
      },
      "execution_count": 86,
      "outputs": [
        {
          "output_type": "stream",
          "name": "stdout",
          "text": [
            "Accuracy =  99.27272727272727\n"
          ]
        }
      ]
    },
    {
      "cell_type": "markdown",
      "source": [
        "Dataset 2"
      ],
      "metadata": {
        "id": "edJ8g_cI1WKj"
      }
    },
    {
      "cell_type": "code",
      "source": [
        "# Split Data into features and target\n",
        "X = scaled_glasstypePrediction.drop('Type',axis = 1)\n",
        "Y = scaled_glasstypePrediction['Type']\n",
        "\n",
        "# Split Data into train and test sets\n",
        "x_train,x_test,y_train,y_test = train_test_split(X,Y,test_size=0.2,random_state=42)\n",
        "\n",
        "# Random forest model\n",
        "Random_forest = RandomForestClassifier(n_estimators=100,random_state=42)\n",
        "Random_forest.fit(x_train,y_train)\n",
        "Random_forest_predictions = Random_forest.predict(x_test)\n",
        "Random_forest_accuracy = accuracy_score(y_test,Random_forest_predictions)\n",
        "print(\"Accuracy = \",Random_forest_accuracy*100)"
      ],
      "metadata": {
        "colab": {
          "base_uri": "https://localhost:8080/"
        },
        "id": "RayBFkyqrc5V",
        "outputId": "0e1fbb76-25df-4842-fdab-f79dbd0482a7"
      },
      "execution_count": 87,
      "outputs": [
        {
          "output_type": "stream",
          "name": "stdout",
          "text": [
            "Accuracy =  83.72093023255815\n"
          ]
        }
      ]
    },
    {
      "cell_type": "markdown",
      "source": [
        "Dataset 3"
      ],
      "metadata": {
        "id": "p0WkK7Jy1gtx"
      }
    },
    {
      "cell_type": "markdown",
      "source": [],
      "metadata": {
        "id": "eqSMZujL1Yx9"
      }
    },
    {
      "cell_type": "code",
      "source": [
        "# Split Data into features and target\n",
        "X = housePricePrediction.drop('TARGET(PRICE_IN_LACS)',axis = 1)\n",
        "Y = housePricePrediction['TARGET(PRICE_IN_LACS)']\n",
        "\n",
        "# Split Data into train and test sets\n",
        "x_train,x_test,y_train,y_test = train_test_split(X,Y,test_size=0.2,random_state=42)\n",
        "\n",
        "# Random forest model\n",
        "Random_forest = RandomForestRegressor(n_estimators=100,random_state=42)\n",
        "Random_forest.fit(x_train,y_train)\n",
        "Random_forest_predictions = Random_forest.predict(x_test)\n",
        "mse = mean_squared_error(y_test, Random_forest_predictions)\n",
        "print('Mean Squared Error:', mse)"
      ],
      "metadata": {
        "colab": {
          "base_uri": "https://localhost:8080/"
        },
        "id": "syBErTWgsG-a",
        "outputId": "431b1c59-7c6c-46bd-c9f0-05c9b0964993"
      },
      "execution_count": 88,
      "outputs": [
        {
          "output_type": "stream",
          "name": "stdout",
          "text": [
            "Mean Squared Error: 139932.7773360713\n"
          ]
        }
      ]
    },
    {
      "cell_type": "markdown",
      "source": [
        "# 2-AdaBoost"
      ],
      "metadata": {
        "id": "dYgM60bleTUG"
      }
    },
    {
      "cell_type": "markdown",
      "source": [
        "Dataset 1"
      ],
      "metadata": {
        "id": "pXn4s3nK4Yw-"
      }
    },
    {
      "cell_type": "code",
      "source": [
        "# Split Data into features and target\n",
        "X = scaled_data_banknote_authentication.drop('Class',axis = 1)\n",
        "Y = scaled_data_banknote_authentication['Class']\n",
        "\n",
        "# Split Data into train and test sets\n",
        "x_train,x_test,y_train,y_test = train_test_split(X,Y,test_size=0.2,random_state=42)\n",
        "\n",
        "# Adaboost model\n",
        "Adaboost = AdaBoostClassifier(n_estimators=100,random_state=42)\n",
        "Adaboost.fit(x_train,y_train)\n",
        "Adaboost_predictions = Adaboost.predict(x_test)\n",
        "Adaboost_accuracy = accuracy_score(y_test,Adaboost_predictions)\n",
        "print('Accuracy = ',Adaboost_accuracy*100)"
      ],
      "metadata": {
        "colab": {
          "base_uri": "https://localhost:8080/"
        },
        "id": "6iZyQIiU4U6A",
        "outputId": "17a8bb86-c4b4-4e89-8538-dd82ebf8d6a6"
      },
      "execution_count": 89,
      "outputs": [
        {
          "output_type": "stream",
          "name": "stdout",
          "text": [
            "Accuracy =  99.63636363636364\n"
          ]
        }
      ]
    },
    {
      "cell_type": "markdown",
      "source": [
        "Dataset 2"
      ],
      "metadata": {
        "id": "Jw7rjwqY4bKv"
      }
    },
    {
      "cell_type": "code",
      "source": [
        "# Split Data into features and target\n",
        "X = scaled_glasstypePrediction.drop('Type',axis = 1)\n",
        "Y = scaled_glasstypePrediction['Type']\n",
        "\n",
        "# Split Data into train and test sets\n",
        "x_train,x_test,y_train,y_test = train_test_split(X,Y,test_size=0.2,random_state=42)\n",
        "\n",
        "# Adaboost model\n",
        "Adaboost = AdaBoostClassifier(n_estimators=100,random_state=42)\n",
        "Adaboost.fit(x_train,y_train)\n",
        "Adaboost_predictions = Adaboost.predict(x_test)\n",
        "Adaboost_accuracy = accuracy_score(y_test,Adaboost_predictions)\n",
        "print('Accuracy = ',Adaboost_accuracy*100)\n"
      ],
      "metadata": {
        "colab": {
          "base_uri": "https://localhost:8080/"
        },
        "id": "DNPYP68AeXOY",
        "outputId": "29f3b303-2b61-45c7-edd9-5505c6d02bfd"
      },
      "execution_count": 90,
      "outputs": [
        {
          "output_type": "stream",
          "name": "stdout",
          "text": [
            "Accuracy =  48.837209302325576\n"
          ]
        }
      ]
    },
    {
      "cell_type": "markdown",
      "source": [
        "Dataset 3"
      ],
      "metadata": {
        "id": "1_qEzSve4c7n"
      }
    },
    {
      "cell_type": "code",
      "source": [
        "# Split Data into features and target\n",
        "X = housePricePrediction.drop('TARGET(PRICE_IN_LACS)',axis = 1)\n",
        "Y = housePricePrediction['TARGET(PRICE_IN_LACS)']\n",
        "\n",
        "# Split Data into train and test sets\n",
        "x_train,x_test,y_train,y_test = train_test_split(X,Y,test_size=0.2,random_state=42)\n",
        "\n",
        "# Adaboost model\n",
        "Adaboost = AdaBoostRegressor(n_estimators=100,random_state=42)\n",
        "Adaboost.fit(x_train,y_train)\n",
        "Adaboost_predictions = Adaboost.predict(x_test)\n",
        "mse = mean_squared_error(y_test, Adaboost_predictions)\n",
        "print('Mean Squared Error:', mse)\n"
      ],
      "metadata": {
        "colab": {
          "base_uri": "https://localhost:8080/"
        },
        "id": "JQ3q_ypR4fsj",
        "outputId": "bcf9176d-bbfc-44e6-b4d8-f050e55537c6"
      },
      "execution_count": 91,
      "outputs": [
        {
          "output_type": "stream",
          "name": "stdout",
          "text": [
            "Mean Squared Error: 165393.03803941802\n"
          ]
        }
      ]
    },
    {
      "cell_type": "markdown",
      "source": [
        "# 3-Gradient Boosting"
      ],
      "metadata": {
        "id": "pLPD1EamgcqO"
      }
    },
    {
      "cell_type": "markdown",
      "source": [
        "Dataset 1"
      ],
      "metadata": {
        "id": "tNkJ6Bug-fAV"
      }
    },
    {
      "cell_type": "code",
      "source": [
        "# Split Data into features and target\n",
        "X = scaled_data_banknote_authentication.drop('Class',axis = 1)\n",
        "Y = scaled_data_banknote_authentication['Class']\n",
        "\n",
        "# Split Data into train and test sets\n",
        "x_train,x_test,y_train,y_test = train_test_split(X,Y,test_size=0.2,random_state=42)\n",
        "\n",
        "# Gradient boosting model\n",
        "Gradient_boosting = GradientBoostingClassifier(n_estimators=100,random_state=42)\n",
        "Gradient_boosting.fit(x_train,y_train)\n",
        "Gradient_boosting_predictions = Gradient_boosting.predict(x_test)\n",
        "Gradient_boosting_accuracy = accuracy_score(y_test,Gradient_boosting_predictions)\n",
        "print('Accuracy = ',Gradient_boosting_accuracy*100)"
      ],
      "metadata": {
        "colab": {
          "base_uri": "https://localhost:8080/"
        },
        "id": "pTnFu1wi-ekB",
        "outputId": "9fdbdd35-22ef-47fb-84ec-66b057d6d13e"
      },
      "execution_count": 92,
      "outputs": [
        {
          "output_type": "stream",
          "name": "stdout",
          "text": [
            "Accuracy =  100.0\n"
          ]
        }
      ]
    },
    {
      "cell_type": "markdown",
      "source": [
        "Dataset 2"
      ],
      "metadata": {
        "id": "_hcRutir-iZV"
      }
    },
    {
      "cell_type": "code",
      "source": [
        "# Split Data into features and target\n",
        "X = scaled_glasstypePrediction.drop('Type',axis = 1)\n",
        "Y = scaled_glasstypePrediction['Type']\n",
        "\n",
        "# Split Data into train and test sets\n",
        "x_train,x_test,y_train,y_test = train_test_split(X,Y,test_size=0.2,random_state=42)\n",
        "\n",
        "# Gradient boosting model\n",
        "Gradient_boosting = GradientBoostingClassifier(n_estimators=100,random_state=42)\n",
        "Gradient_boosting.fit(x_train,y_train)\n",
        "Gradient_boosting_predictions = Gradient_boosting.predict(x_test)\n",
        "Gradient_boosting_accuracy = accuracy_score(y_test,Gradient_boosting_predictions)\n",
        "print('Accuracy = ',Gradient_boosting_accuracy*100)"
      ],
      "metadata": {
        "colab": {
          "base_uri": "https://localhost:8080/"
        },
        "id": "jzAV9PfF-ehS",
        "outputId": "3fd0686c-7b6e-46e9-aedb-ca975d46b001"
      },
      "execution_count": 93,
      "outputs": [
        {
          "output_type": "stream",
          "name": "stdout",
          "text": [
            "Accuracy =  86.04651162790698\n"
          ]
        }
      ]
    },
    {
      "cell_type": "markdown",
      "source": [
        "Dataset 3"
      ],
      "metadata": {
        "id": "Aujj1Nn7-mHE"
      }
    },
    {
      "cell_type": "code",
      "source": [
        "# Split Data into features and target\n",
        "X = housePricePrediction.drop('TARGET(PRICE_IN_LACS)',axis = 1)\n",
        "Y = housePricePrediction['TARGET(PRICE_IN_LACS)']\n",
        "\n",
        "# Split Data into train and test sets\n",
        "x_train,x_test,y_train,y_test = train_test_split(X,Y,test_size=0.2,random_state=42)\n",
        "\n",
        "# Gradient boosting model\n",
        "Gradient_boosting = GradientBoostingRegressor(n_estimators=100,random_state=42)\n",
        "Gradient_boosting.fit(x_train,y_train)\n",
        "Gradient_boosting_predictions = Gradient_boosting.predict(x_test)\n",
        "mse = mean_squared_error(y_test, Gradient_boosting_predictions)\n",
        "print('Mean Squared Error:', mse)"
      ],
      "metadata": {
        "colab": {
          "base_uri": "https://localhost:8080/"
        },
        "id": "gqmZL9m7ghFO",
        "outputId": "91921d86-e205-453d-cd02-8d668879ddbf"
      },
      "execution_count": 94,
      "outputs": [
        {
          "output_type": "stream",
          "name": "stdout",
          "text": [
            "Mean Squared Error: 120975.6438646973\n"
          ]
        }
      ]
    },
    {
      "cell_type": "markdown",
      "source": [
        "# **Hyperparameter Tuning :**"
      ],
      "metadata": {
        "id": "dBI3P7YvlJu1"
      }
    },
    {
      "cell_type": "markdown",
      "source": [
        "# 1-Random Forest"
      ],
      "metadata": {
        "id": "EhGCTh8u3fSs"
      }
    },
    {
      "cell_type": "markdown",
      "source": [
        "Random forest for Dataset 1"
      ],
      "metadata": {
        "id": "l21Rht2rrDSM"
      }
    },
    {
      "cell_type": "code",
      "source": [
        "# Split Data into features and target\n",
        "X = scaled_data_banknote_authentication.drop('Class', axis=1)\n",
        "Y = scaled_data_banknote_authentication['Class']\n",
        "\n",
        "# Split Data into train and test sets\n",
        "x_train, x_test, y_train, y_test = train_test_split(X, Y, test_size=0.2, random_state=42)\n",
        "\n",
        "# Define the parameter grid for Random Forest\n",
        "param_grid = {\n",
        "    'n_estimators': [50, 100, 150],\n",
        "    'max_depth': [5, 10, 20],\n",
        "    'max_features': ['sqrt', 'log2', None]\n",
        "}\n",
        "\n",
        "#  Random Forest model\n",
        "Random_forest = RandomForestClassifier(random_state=42)\n",
        "\n",
        "# GridSearchCV\n",
        "grid_search = GridSearchCV(estimator=Random_forest, param_grid=param_grid, cv=3, scoring='accuracy')\n",
        "\n",
        "# Perform hyperparameter tuning\n",
        "grid_search.fit(x_train, y_train)\n",
        "y_pred = grid_search.predict(x_test)\n",
        "# Accuracy\n",
        "accuracy_random_forest_dataset1 = accuracy_score(y_test, y_pred)\n",
        "# precision\n",
        "precision = precision_score(y_test, y_pred)\n",
        "\n",
        "# recall\n",
        "recall = recall_score(y_test, y_pred)\n",
        "\n",
        "# F1-score\n",
        "f1 = f1_score(y_test, y_pred)\n",
        "\n",
        "print(\"Final Accuracy:\", accuracy_random_forest_dataset1*100,\"precision = \",precision,\"recall = \",recall,\"f1 = \",f1)"
      ],
      "metadata": {
        "colab": {
          "base_uri": "https://localhost:8080/"
        },
        "id": "WW4QYlI9l3ly",
        "outputId": "d1f7fb41-ad8e-4980-99f0-aef4147823f4"
      },
      "execution_count": 95,
      "outputs": [
        {
          "output_type": "stream",
          "name": "stdout",
          "text": [
            "Final Accuracy: 99.27272727272727 precision =  1.0 recall =  0.984251968503937 f1 =  0.9920634920634921\n"
          ]
        }
      ]
    },
    {
      "cell_type": "markdown",
      "source": [
        "Random forest for Dataset 2"
      ],
      "metadata": {
        "id": "LrAo-WkRq9Br"
      }
    },
    {
      "cell_type": "code",
      "source": [
        "# Split Data into features and target\n",
        "X = scaled_glasstypePrediction.drop('Type', axis=1)\n",
        "Y = scaled_glasstypePrediction['Type']\n",
        "\n",
        "# Split Data into train and test sets\n",
        "x_train, x_test, y_train, y_test = train_test_split(X, Y, test_size=0.2, random_state=42)\n",
        "\n",
        "# Define the parameter grid for Random Forest\n",
        "param_grid = {\n",
        "    'n_estimators': [50, 100, 150],\n",
        "    'max_depth': [5, 10, 20],\n",
        "}\n",
        "\n",
        "# Random Forest model\n",
        "Random_forest = RandomForestClassifier(random_state=42)\n",
        "\n",
        "# GridSearchCV\n",
        "grid_search = GridSearchCV(estimator=Random_forest, param_grid=param_grid, cv=3, scoring='accuracy')\n",
        "\n",
        "# Perform hyperparameter tuning\n",
        "grid_search.fit(x_train, y_train)\n",
        "y_pred = grid_search.predict(x_test)\n",
        "\n",
        "# Accuracy\n",
        "accuracy_random_forest_dataset2 = accuracy_score(y_test, y_pred)\n",
        "\n",
        "# precision\n",
        "precision = precision_score(y_test, y_pred, average='weighted')\n",
        "\n",
        "# recall\n",
        "recall = recall_score(y_test, y_pred, average='weighted')\n",
        "\n",
        "# F1-score\n",
        "f1 = f1_score(y_test, y_pred, average='weighted')\n",
        "\n",
        "print(\"Final Accuracy:\", accuracy_random_forest_dataset2*100, \"precision =\", precision, \"recall =\", recall, \"f1 =\", f1)\n",
        "\n",
        "# Extract mean test scores and parameter values from grid search results\n",
        "mean_test_scores = grid_search.cv_results_['mean_test_score']\n",
        "params = grid_search.cv_results_['params']\n",
        "\n",
        "# Reshape mean test scores to match the grid shape\n",
        "mean_test_scores = mean_test_scores.reshape(len(param_grid['max_depth']), len(param_grid['n_estimators']))\n",
        "\n",
        "# heatmap\n",
        "plt.figure(figsize=(10, 6))\n",
        "sns.heatmap(mean_test_scores, annot=True, fmt='.4f', cmap='viridis', xticklabels=param_grid['n_estimators'], yticklabels=param_grid['max_depth'])\n",
        "plt.xlabel('Number of Estimators')\n",
        "plt.ylabel('Max Depth')\n",
        "plt.title('Hyperparameter Tuning Results')\n",
        "plt.show()"
      ],
      "metadata": {
        "colab": {
          "base_uri": "https://localhost:8080/",
          "height": 581
        },
        "id": "iKIltKOErCko",
        "outputId": "11fbd2af-26ec-442d-f6bf-4531fb7a04e1"
      },
      "execution_count": 96,
      "outputs": [
        {
          "output_type": "stream",
          "name": "stdout",
          "text": [
            "Final Accuracy: 83.72093023255815 precision = 0.866828165374677 recall = 0.8372093023255814 f1 = 0.8330452594474481\n"
          ]
        },
        {
          "output_type": "display_data",
          "data": {
            "text/plain": [
              "<Figure size 1000x600 with 2 Axes>"
            ],
            "image/png": "[encoded data removed]"
          },
          "metadata": {}
        }
      ]
    },
    {
      "cell_type": "markdown",
      "source": [
        "Random forest for Dataset 3"
      ],
      "metadata": {
        "id": "5FR-AkgC1tSd"
      }
    },
    {
      "cell_type": "code",
      "source": [
        "# Split Data into features and target\n",
        "X = housePricePrediction.drop('TARGET(PRICE_IN_LACS)', axis=1)\n",
        "Y = housePricePrediction['TARGET(PRICE_IN_LACS)']\n",
        "\n",
        "# Split Data into train and test sets\n",
        "x_train, x_test, y_train, y_test = train_test_split(X, Y, test_size=0.2, random_state=42)\n",
        "\n",
        "# Define the parameter grid for Random Forest\n",
        "param_grid = {\n",
        "    'n_estimators': [50, 100, 150],\n",
        "    'max_depth': [5, 10, 20],\n",
        "    'max_features': ['sqrt', 'log2', None]\n",
        "}\n",
        "\n",
        "# Random Forest model for regression\n",
        "Random_forest_regressor = RandomForestRegressor(random_state=42)\n",
        "\n",
        "# GridSearchCV for regression\n",
        "grid_search = GridSearchCV(estimator=Random_forest_regressor, param_grid=param_grid, cv=3, scoring='neg_mean_squared_error')\n",
        "\n",
        "# Perform hyperparameter tuning\n",
        "grid_search.fit(x_train, y_train)\n",
        "y_pred = grid_search.predict(x_test)\n",
        "mse_random_forest_dataset3 = mean_squared_error(y_test, y_pred)\n",
        "print(\"Mean Squared Error:\", mse_random_forest_dataset3)"
      ],
      "metadata": {
        "colab": {
          "base_uri": "https://localhost:8080/"
        },
        "id": "wk_EzPnsswkt",
        "outputId": "56684a35-2dac-4ea5-f6ab-01ab11842ee7"
      },
      "execution_count": 97,
      "outputs": [
        {
          "output_type": "stream",
          "name": "stdout",
          "text": [
            "Mean Squared Error: 175161.02211746675\n"
          ]
        }
      ]
    },
    {
      "cell_type": "markdown",
      "source": [
        "#2-AdaBoost"
      ],
      "metadata": {
        "id": "UhsXBODR3mGr"
      }
    },
    {
      "cell_type": "markdown",
      "source": [
        "Adaboost dataset 1"
      ],
      "metadata": {
        "id": "34zXGnMO15fp"
      }
    },
    {
      "cell_type": "code",
      "source": [
        "# Split Data into features and target\n",
        "X = scaled_data_banknote_authentication.drop('Class', axis=1)\n",
        "Y = scaled_data_banknote_authentication['Class']\n",
        "\n",
        "# Split Data into train and test sets\n",
        "x_train, x_test, y_train, y_test = train_test_split(X, Y, test_size=0.2, random_state=42)\n",
        "\n",
        "# Define the parameter grid for Random Forest\n",
        "param_grid = {\n",
        "    'n_estimators': [50, 100, 150],\n",
        "    'learning_rate': [0.1, 0.01, 0.001],\n",
        "}\n",
        "\n",
        "#  Random Forest model\n",
        "Adaboost = AdaBoostClassifier(random_state=42)\n",
        "\n",
        "# GridSearchCV\n",
        "grid_search = GridSearchCV(estimator=Adaboost, param_grid=param_grid, cv=3, scoring='accuracy')\n",
        "\n",
        "# Perform hyperparameter tuning\n",
        "grid_search.fit(x_train, y_train)\n",
        "y_pred = grid_search.predict(x_test)\n",
        "# Accuracy\n",
        "accuracy_Adaboost_dataset1 = accuracy_score(y_test, y_pred)\n",
        "# precision\n",
        "precision = precision_score(y_test, y_pred,average='weighted')\n",
        "\n",
        "# recall\n",
        "recall = recall_score(y_test, y_pred,average='weighted')\n",
        "\n",
        "# F1-score\n",
        "f1 = f1_score(y_test, y_pred,average='weighted')\n",
        "\n",
        "print(\"Final Accuracy:\", accuracy_Adaboost_dataset1*100,\"precision = \",precision,\"recall = \",recall,\"f1 = \",f1)\n"
      ],
      "metadata": {
        "colab": {
          "base_uri": "https://localhost:8080/"
        },
        "id": "D6M-goYi19Fq",
        "outputId": "89fcf459-bdac-4d29-82c7-e29625d63746"
      },
      "execution_count": 98,
      "outputs": [
        {
          "output_type": "stream",
          "name": "stdout",
          "text": [
            "Final Accuracy: 97.0909090909091 precision =  0.9709090909090909 recall =  0.9709090909090909 f1 =  0.9709090909090909\n"
          ]
        }
      ]
    },
    {
      "cell_type": "markdown",
      "source": [
        "Adaboost dataset 2\n"
      ],
      "metadata": {
        "id": "NX8p-EFU2rUM"
      }
    },
    {
      "cell_type": "code",
      "source": [
        "# Split Data into features and target\n",
        "X = scaled_glasstypePrediction.drop('Type',axis = 1)\n",
        "Y = scaled_glasstypePrediction['Type']\n",
        "\n",
        "# Split Data into train and test sets\n",
        "x_train, x_test, y_train, y_test = train_test_split(X, Y, test_size=0.2, random_state=42)\n",
        "\n",
        "# Define the parameter grid for Random Forest\n",
        "param_grid = {\n",
        "    'n_estimators': [50, 100, 150],\n",
        "    'learning_rate': [0.1, 0.01, 0.001],\n",
        "}\n",
        "\n",
        "#  Random Forest model\n",
        "Adaboost = AdaBoostClassifier(random_state=42)\n",
        "\n",
        "# GridSearchCV\n",
        "grid_search = GridSearchCV(estimator=Adaboost, param_grid=param_grid, cv=3, scoring='accuracy')\n",
        "\n",
        "# Perform hyperparameter tuning\n",
        "grid_search.fit(x_train, y_train)\n",
        "y_pred = grid_search.predict(x_test)\n",
        "# Accuracy\n",
        "accuracy_Adaboost_dataset2 = accuracy_score(y_test, y_pred)\n",
        "# precision\n",
        "precision = precision_score(y_test, y_pred,average='weighted')\n",
        "\n",
        "# recall\n",
        "recall = recall_score(y_test, y_pred,average='weighted')\n",
        "\n",
        "# F1-score\n",
        "f1 = f1_score(y_test, y_pred,average='weighted')\n",
        "\n",
        "print(\"Final Accuracy:\", accuracy_Adaboost_dataset2*100,\"precision = \",precision,\"recall = \",recall,\"f1 = \",f1)"
      ],
      "metadata": {
        "colab": {
          "base_uri": "https://localhost:8080/"
        },
        "id": "mu9AvnYj2uBh",
        "outputId": "683f3cdf-dfae-4dfb-fc46-57a669256577"
      },
      "execution_count": 99,
      "outputs": [
        {
          "output_type": "stream",
          "name": "stdout",
          "text": [
            "Final Accuracy: 69.76744186046511 precision =  0.6619438473063645 recall =  0.6976744186046512 f1 =  0.6710577644411103\n"
          ]
        },
        {
          "output_type": "stream",
          "name": "stderr",
          "text": [
            "/usr/local/lib/python3.10/dist-packages/sklearn/metrics/_classification.py:1344: UndefinedMetricWarning: Precision is ill-defined and being set to 0.0 in labels with no predicted samples. Use `zero_division` parameter to control this behavior.\n",
            "  _warn_prf(average, modifier, msg_start, len(result))\n"
          ]
        }
      ]
    },
    {
      "cell_type": "markdown",
      "source": [
        "Adaboost dataset 3"
      ],
      "metadata": {
        "id": "p7REsyfu3EnE"
      }
    },
    {
      "cell_type": "code",
      "source": [
        "# Split Data into features and target\n",
        "X = housePricePrediction.drop('TARGET(PRICE_IN_LACS)', axis=1)\n",
        "Y = housePricePrediction['TARGET(PRICE_IN_LACS)']\n",
        "\n",
        "# Split Data into train and test sets\n",
        "x_train, x_test, y_train, y_test = train_test_split(X, Y, test_size=0.2, random_state=42)\n",
        "\n",
        "# Define the parameter grid for Random Forest\n",
        "param_grid = {\n",
        "    'n_estimators': [50, 100, 150],\n",
        "    'learning_rate': [0.1, 0.01, 0.001],\n",
        "}\n",
        "\n",
        "# Random Forest model for regression\n",
        "Adaboost = AdaBoostRegressor(random_state=42)\n",
        "\n",
        "# GridSearchCV for regression\n",
        "grid_search = GridSearchCV(estimator=Adaboost, param_grid=param_grid, cv=3, scoring='neg_mean_squared_error')\n",
        "\n",
        "# Perform hyperparameter tuning\n",
        "grid_search.fit(x_train, y_train)\n",
        "y_pred = grid_search.predict(x_test)\n",
        "mse_Adaboost_dataset3 = mean_squared_error(y_test, y_pred)\n",
        "print(\"Mean Squared Error:\", mse_Adaboost_dataset3)\n"
      ],
      "metadata": {
        "colab": {
          "base_uri": "https://localhost:8080/"
        },
        "id": "EknlDseQ3Jbu",
        "outputId": "ec00efeb-c81c-4f65-ee55-ad1845416124"
      },
      "execution_count": 100,
      "outputs": [
        {
          "output_type": "stream",
          "name": "stdout",
          "text": [
            "Mean Squared Error: 123601.30539610042\n"
          ]
        }
      ]
    },
    {
      "cell_type": "markdown",
      "source": [
        "#3-Gradient Boosting"
      ],
      "metadata": {
        "id": "4JyeFW4r_deI"
      }
    },
    {
      "cell_type": "markdown",
      "source": [
        "Dataset 1"
      ],
      "metadata": {
        "id": "wRlBTzVf_sBf"
      }
    },
    {
      "cell_type": "code",
      "source": [
        "# Split Data into features and target\n",
        "X = scaled_data_banknote_authentication.drop('Class', axis=1)\n",
        "Y = scaled_data_banknote_authentication['Class']\n",
        "\n",
        "# Split Data into train and test sets\n",
        "x_train, x_test, y_train, y_test = train_test_split(X, Y, test_size=0.2, random_state=42)\n",
        "\n",
        "# Define the parameter grid for Random Forest\n",
        "param_grid = {\n",
        "    'n_estimators': [50, 100, 150],\n",
        "    'learning_rate': [0.1, 0.01, 0.001],\n",
        "}\n",
        "\n",
        "#  Random Forest model\n",
        "Gradient_boosting = GradientBoostingClassifier(random_state=42)\n",
        "\n",
        "# GridSearchCV\n",
        "grid_search = GridSearchCV(estimator=Gradient_boosting, param_grid=param_grid, cv=3, scoring='accuracy')\n",
        "\n",
        "# Perform hyperparameter tuning\n",
        "grid_search.fit(x_train, y_train)\n",
        "y_pred = grid_search.predict(x_test)\n",
        "# Accuracy\n",
        "accuracy_Gradientboost_dataset1 = accuracy_score(y_test, y_pred)\n",
        "# precision\n",
        "precision = precision_score(y_test, y_pred,average='weighted')\n",
        "\n",
        "# recall\n",
        "recall = recall_score(y_test, y_pred,average='weighted')\n",
        "\n",
        "# F1-score\n",
        "f1 = f1_score(y_test, y_pred,average='weighted')\n",
        "\n",
        "print(\"Final Accuracy:\", accuracy_Gradientboost_dataset1*100,\"precision = \",precision,\"recall = \",recall,\"f1 = \",f1)\n",
        "\n",
        "results = grid_search.cv_results_\n",
        "\n",
        "# Extract hyperparameters and their values\n",
        "params = grid_search.param_grid\n",
        "param_names = list(params.keys())\n",
        "param_values = [params[name] for name in param_names]\n",
        "\n",
        "# Extract mean test scores\n",
        "mean_test_scores = results['mean_test_score']\n",
        "\n",
        "# Reshape mean test scores to match the grid shape\n",
        "grid_shape = [len(values) for values in param_values]\n",
        "mean_test_scores = mean_test_scores.reshape(grid_shape)\n",
        "\n",
        "# heatmap\n",
        "plt.figure(figsize=(10, 6))\n",
        "sns.heatmap(mean_test_scores, annot=True, fmt='.4f', cmap='viridis', xticklabels=param_values[1], yticklabels=param_values[0])\n",
        "plt.xlabel(param_names[1])\n",
        "plt.ylabel(param_names[0])\n",
        "plt.title('Hyperparameter Tuning Results')\n",
        "plt.show()"
      ],
      "metadata": {
        "colab": {
          "base_uri": "https://localhost:8080/",
          "height": 581
        },
        "id": "wel8UwRz_h3x",
        "outputId": "067f04cf-18a0-4f49-83b1-9c39a8c52380"
      },
      "execution_count": 101,
      "outputs": [
        {
          "output_type": "stream",
          "name": "stdout",
          "text": [
            "Final Accuracy: 100.0 precision =  1.0 recall =  1.0 f1 =  1.0\n"
          ]
        },
        {
          "output_type": "display_data",
          "data": {
            "text/plain": [
              "<Figure size 1000x600 with 2 Axes>"
            ],
            "image/png": "[encoded data removed]"
          },
          "metadata": {}
        }
      ]
    },
    {
      "cell_type": "markdown",
      "source": [
        "Dataset 2"
      ],
      "metadata": {
        "id": "bSEfhlJKAz6v"
      }
    },
    {
      "cell_type": "code",
      "source": [
        "# Split Data into features and target\n",
        "X = scaled_glasstypePrediction.drop('Type',axis = 1)\n",
        "Y = scaled_glasstypePrediction['Type']\n",
        "\n",
        "\n",
        "# Split Data into train and test sets\n",
        "x_train, x_test, y_train, y_test = train_test_split(X, Y, test_size=0.2, random_state=42)\n",
        "\n",
        "# Define the parameter grid for Random Forest\n",
        "param_grid = {\n",
        "    'n_estimators': [50, 100, 150],\n",
        "    'learning_rate': [0.1, 0.01, 0.001],\n",
        "}\n",
        "\n",
        "#  Random Forest model\n",
        "Gradient_boosting = GradientBoostingClassifier(random_state=42)\n",
        "\n",
        "# GridSearchCV\n",
        "grid_search = GridSearchCV(estimator=Gradient_boosting, param_grid=param_grid, cv=3, scoring='accuracy')\n",
        "\n",
        "# Perform hyperparameter tuning\n",
        "grid_search.fit(x_train, y_train)\n",
        "y_pred = grid_search.predict(x_test)\n",
        "# Accuracy\n",
        "accuracy_Gradientboost_dataset2 = accuracy_score(y_test, y_pred)\n",
        "# precision\n",
        "precision = precision_score(y_test, y_pred,average='weighted')\n",
        "\n",
        "# recall\n",
        "recall = recall_score(y_test, y_pred,average='weighted')\n",
        "\n",
        "# F1-score\n",
        "f1 = f1_score(y_test, y_pred,average='weighted')\n",
        "\n",
        "print(\"Final Accuracy:\", accuracy_Gradientboost_dataset2*100,\"precision = \",precision,\"recall = \",recall,\"f1 = \",f1)"
      ],
      "metadata": {
        "colab": {
          "base_uri": "https://localhost:8080/"
        },
        "id": "u_ozOgehA1Ri",
        "outputId": "f3f81412-0da1-4228-f7a3-f35dee963f77"
      },
      "execution_count": 102,
      "outputs": [
        {
          "output_type": "stream",
          "name": "stdout",
          "text": [
            "Final Accuracy: 86.04651162790698 precision =  0.8799372462163159 recall =  0.8604651162790697 f1 =  0.8501294328106912\n"
          ]
        }
      ]
    },
    {
      "cell_type": "markdown",
      "source": [
        "Dataset 3"
      ],
      "metadata": {
        "id": "oDePEkCcBNhD"
      }
    },
    {
      "cell_type": "code",
      "source": [
        "# Split Data into features and target\n",
        "X = housePricePrediction.drop('TARGET(PRICE_IN_LACS)', axis=1)\n",
        "Y = housePricePrediction['TARGET(PRICE_IN_LACS)']\n",
        "\n",
        "# Split Data into train and test sets\n",
        "x_train, x_test, y_train, y_test = train_test_split(X, Y, test_size=0.2, random_state=42)\n",
        "\n",
        "# Define the parameter grid for Random Forest\n",
        "param_grid = {\n",
        "    'n_estimators': [50, 100, 150],\n",
        "    'max_depth': [5, 10, 20],\n",
        "}\n",
        "\n",
        "# Random Forest model for regression\n",
        "Gradient_boosting = GradientBoostingRegressor(random_state=42)\n",
        "\n",
        "# GridSearchCV for regression\n",
        "grid_search = GridSearchCV(estimator=Gradient_boosting, param_grid=param_grid, cv=3, scoring='neg_mean_squared_error')\n",
        "\n",
        "# Perform hyperparameter tuning\n",
        "grid_search.fit(x_train, y_train)\n",
        "y_pred = grid_search.predict(x_test)\n",
        "mse_Gradient_boost_dataset3 = mean_squared_error(y_test, y_pred)\n",
        "print(\"Mean Squared Error:\", mse)\n",
        "\n",
        "params = grid_search.param_grid\n",
        "param_names = list(params.keys())\n",
        "param_values = [params[name] for name in param_names]\n",
        "\n",
        "# Extract mean test scores\n",
        "mean_test_scores = results['mean_test_score']\n",
        "\n",
        "# Reshape mean test scores to match the grid shape\n",
        "grid_shape = [len(values) for values in param_values]\n",
        "mean_test_scores = mean_test_scores.reshape(grid_shape)\n",
        "\n",
        "# heatmap\n",
        "plt.figure(figsize=(10, 6))\n",
        "sns.heatmap(mean_test_scores, annot=True, fmt='.4f', cmap='viridis', xticklabels=param_values[1], yticklabels=param_values[0])\n",
        "plt.xlabel(param_names[1])\n",
        "plt.ylabel(param_names[0])\n",
        "plt.title('Hyperparameter Tuning Results')\n",
        "plt.show()\n"
      ],
      "metadata": {
        "colab": {
          "base_uri": "https://localhost:8080/",
          "height": 581
        },
        "id": "7w2Oddu2BPEt",
        "outputId": "3bce0b51-3066-476e-8e7a-c9d82ac2185c"
      },
      "execution_count": 103,
      "outputs": [
        {
          "output_type": "stream",
          "name": "stdout",
          "text": [
            "Mean Squared Error: 120975.6438646973\n"
          ]
        },
        {
          "output_type": "display_data",
          "data": {
            "text/plain": [
              "<Figure size 1000x600 with 2 Axes>"
            ],
            "image/png": "[encoded data removed]"
          },
          "metadata": {}
        }
      ]
    },
    {
      "cell_type": "markdown",
      "source": [
        "# **Visualization:**"
      ],
      "metadata": {
        "id": "2VI_5HNXSp8t"
      }
    },
    {
      "cell_type": "markdown",
      "source": [
        "# Accuracy Comparison Bar Chart:"
      ],
      "metadata": {
        "id": "oVE-xLOeSzff"
      }
    },
    {
      "cell_type": "code",
      "source": [
        "categories = [\"Random Forest\",\"AdaBoost\",\"Gradient Boosting\"]\n",
        "values = [accuracy_random_forest_dataset1,accuracy_Adaboost_dataset1,accuracy_Gradientboost_dataset1]\n",
        "\n",
        "plt.bar(categories, values,color=[\"green\",\"blue\",\"red\"])\n",
        "\n",
        "plt.xlabel('Categories')\n",
        "plt.ylabel('Values')\n",
        "plt.title('DataSet 1 Accuracy Comparsion')\n",
        "plt.show()"
      ],
      "metadata": {
        "colab": {
          "base_uri": "https://localhost:8080/",
          "height": 472
        },
        "id": "vbGhnOUQS39c",
        "outputId": "ebf5ef9b-517a-43eb-e886-b8d54aaf9eab"
      },
      "execution_count": 104,
      "outputs": [
        {
          "output_type": "display_data",
          "data": {
            "text/plain": [
              "<Figure size 640x480 with 1 Axes>"
            ],
            "image/png": "[encoded data removed]"
          },
          "metadata": {}
        }
      ]
    },
    {
      "cell_type": "code",
      "source": [
        "categories = [\"Random Forest\",\"AdaBoost\",\"Gradient Boosting\"]\n",
        "values = [accuracy_random_forest_dataset2,accuracy_Adaboost_dataset2,accuracy_Gradientboost_dataset2]\n",
        "\n",
        "plt.bar(categories, values,color=[\"green\",\"blue\",\"red\"])\n",
        "\n",
        "plt.xlabel('Categories')\n",
        "plt.ylabel('Values')\n",
        "plt.title('DataSet 2 Accuracy Comparsion')\n",
        "plt.show()"
      ],
      "metadata": {
        "colab": {
          "base_uri": "https://localhost:8080/",
          "height": 472
        },
        "id": "3-Lo7GprUurO",
        "outputId": "90afc48d-a670-4fe0-f6ff-6b369ed57571"
      },
      "execution_count": 105,
      "outputs": [
        {
          "output_type": "display_data",
          "data": {
            "text/plain": [
              "<Figure size 640x480 with 1 Axes>"
            ],
            "image/png": "[encoded data removed]"
          },
          "metadata": {}
        }
      ]
    },
    {
      "cell_type": "code",
      "source": [
        "categories = [\"Random Forest\",\"AdaBoost\",\"Gradient Boosting\"]\n",
        "values = [mse_random_forest_dataset3,mse_Adaboost_dataset3,mse_Gradient_boost_dataset3]\n",
        "\n",
        "plt.bar(categories, values,color=[\"green\",\"blue\",\"red\"])\n",
        "\n",
        "plt.xlabel('Categories')\n",
        "plt.ylabel('Values')\n",
        "plt.title('DataSet 3 Accuracy Comparsion')\n",
        "plt.show()"
      ],
      "metadata": {
        "colab": {
          "base_uri": "https://localhost:8080/",
          "height": 472
        },
        "id": "CG5bFGcRU1rI",
        "outputId": "20b9100c-9c3e-44d1-8f44-04e566ca143b"
      },
      "execution_count": 106,
      "outputs": [
        {
          "output_type": "display_data",
          "data": {
            "text/plain": [
              "<Figure size 640x480 with 1 Axes>"
            ],
            "image/png": "[encoded data removed]"
          },
          "metadata": {}
        }
      ]
    }
  ]
}